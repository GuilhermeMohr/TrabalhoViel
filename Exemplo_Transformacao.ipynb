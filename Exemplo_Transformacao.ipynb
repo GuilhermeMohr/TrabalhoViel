{
  "cells": [
    {
      "cell_type": "markdown",
      "metadata": {
        "id": "view-in-github",
        "colab_type": "text"
      },
      "source": [
        "<a href=\"https://colab.research.google.com/github/GuilhermeMohr/TrabalhoViel/blob/main/C%C3%B3pia_de_C%C3%B3pia_de_Exemplo_Transformacao.ipynb\" target=\"_parent\"><img src=\"https://colab.research.google.com/assets/colab-badge.svg\" alt=\"Open In Colab\"/></a>"
      ]
    },
    {
      "cell_type": "markdown",
      "metadata": {
        "id": "WhZZ4pWiNx7l"
      },
      "source": [
        "Universidade do Vale do Itajaí<br>\n",
        "Escola do Mar, Ciência e Tecnologia<br>\n",
        "Professor Felipe Viel\n",
        "\n",
        "# Exemplo de Operações Pontuais e Filtro em OpenCV\n",
        "\n",
        "### Tutoriais da OpenCV\n",
        "\n",
        "- https://docs.opencv.org/master/d9/df8/tutorial_root.html\n",
        "- https://www.geeksforgeeks.org/opencv-python-tutorial/"
      ]
    },
    {
      "cell_type": "markdown",
      "metadata": {
        "id": "8KzyJbE-Nx7q"
      },
      "source": [
        "## Conversão de imagem RGB em imagem Grayscale"
      ]
    },
    {
      "cell_type": "markdown",
      "source": [
        "**import**: serve para usar as bibliotecas determinadas no código.\n",
        "**as**: serve para minimizar a escrita da biblioteca na hora de chamar suas funções.\n",
        "**from** e **import**: estão aqui para permitir que o google colab mostre uma imagem pelo código."
      ],
      "metadata": {
        "id": "hdfyVaAlPRrb"
      }
    },
    {
      "cell_type": "code",
      "execution_count": 1,
      "metadata": {
        "id": "SPRHcibRNx7s"
      },
      "outputs": [],
      "source": [
        "import cv2\n",
        "import numpy as np\n",
        "import matplotlib.pyplot as plt\n",
        "#caso for usar o Google Colab com a OpenCV, usar a lib abaixo\n",
        "from google.colab.patches import cv2_imshow\n"
      ]
    },
    {
      "cell_type": "markdown",
      "source": [
        "**img**: é a variável que contém a informação da imagem usada pelo código, a 't1.jpg'.\n",
        "**cv2.imread**: é a função que permitirá a trancrição do arquivo jpg para a variável.\n",
        "**cv2_imshow(img)**: essa função mostrará a imagem em uma nova janela."
      ],
      "metadata": {
        "id": "hvYJ13VUQ_Ub"
      }
    },
    {
      "cell_type": "code",
      "execution_count": null,
      "metadata": {
        "id": "QotrNpurNx7u"
      },
      "outputs": [],
      "source": [
        "#abrir a imagem\n",
        "img = cv2.imread('t1.jpg',1)\n",
        "#caso for usar o Google Colab com a OpenCV,\n",
        "cv2_imshow(img)"
      ]
    },
    {
      "cell_type": "markdown",
      "source": [
        "O código abaixo está como comentário mas sua função é de mostrar a imagem em uma nova janela através de **imshow()**, depois disso **waitKey(0)** irá fazer com que quando uma tecla seja pressionada a janela se feche, **destroyAllWindows()** serve para excluir qualquer janela aberta pelo código."
      ],
      "metadata": {
        "id": "Ty2jFuT_TROs"
      }
    },
    {
      "cell_type": "code",
      "execution_count": null,
      "metadata": {
        "id": "VLSzKpTtNx7v"
      },
      "outputs": [],
      "source": [
        "#mostrando a imagem colorida - caso você use Python no seu computador\n",
        "#reutilize para exibir as imagens em outros códigos\n",
        "#Voce pode descomentar o código apagando as aspas simples\n",
        "'''\n",
        "cv2.imshow('in', img)\n",
        "cv2.waitKey(0)\n",
        "cv2.destroyAllWindows()\n",
        "'''"
      ]
    },
    {
      "cell_type": "markdown",
      "source": [
        "**split(img)**: está separando a imagem em **img** em três imagens com uma só cor.\n",
        "**img_grayscale_pondered**: primáriamente está recebendo as imagens dividas com seus valores alterados para serem preto e branco. Após isso através de **np.array()** e **dtype=np.uint8** que é um valor de 0 a 255 usado para definir as cores, a imagem poderá ser formatada novamente para os valores corretos não correndo risco de os valores das cores terem um valor não permitido.\n",
        "**cv2_imshow()**: novamente mostra a imagem agora em formato grayscale basicamente composta por tons de cinza."
      ],
      "metadata": {
        "id": "oi6uVlE1SSrV"
      }
    },
    {
      "cell_type": "code",
      "execution_count": null,
      "metadata": {
        "id": "G2Q1PN3QNx7y"
      },
      "outputs": [],
      "source": [
        "#aplicando conversão ponderada - converte imagem colorida para preto e branco\n",
        "#img_grayscale_basic = 0.299*img[ : , : ,0] + 0.587*img[ : , : ,1] + 0.114*img[ : , : ,2]\n",
        "\n",
        "#cv2\n",
        "B, G, R = cv2.split(img)\n",
        "img_grayscale_pondered = 0.299*B+0.587*G+0.114*R\n",
        "\n",
        "img_grayscale_pondered = np.array(img_grayscale_pondered, dtype=np.uint8)\n",
        "\n",
        "cv2_imshow(img_grayscale_pondered)\n"
      ]
    },
    {
      "cell_type": "markdown",
      "metadata": {
        "id": "bA2JoZjXNx78"
      },
      "source": [
        "## Transformações"
      ]
    },
    {
      "cell_type": "markdown",
      "source": [
        "A variável **colorida** ditará o modo que **imread()** lerá a imagem resultando em uma imagem colorida ou cinzenta com os valores 1 e 0 respectivamente, **img_out** obterá a imagem de **img_in** só que com suas cores invertidas a diminuir 255 o número máximo, pelos números que representam as cores na imagem."
      ],
      "metadata": {
        "id": "tgwJyvUXdxWv"
      }
    },
    {
      "cell_type": "code",
      "execution_count": null,
      "metadata": {
        "id": "QGSulCVYNx78"
      },
      "outputs": [],
      "source": [
        "#negativo\n",
        "\n",
        "#img_negative[ : , : ,0] = 255 - img[ : , : ,0]\n",
        "#img_negative[ : , : ,1] = 255 - img[ : , : ,1]\n",
        "#img_negative[ : , : ,2] = 255 - img[ : , : ,2]\n",
        "\n",
        "#Mude a variavel colorida para 1 caso queira colorida, o para 0 caso queira em escala de cinza\n",
        "colorida = 1\n",
        "img_in = cv2.imread('t1.jpg',colorida)\n",
        "\n",
        "img_out = 255 - img_in\n",
        "\n",
        "cv2_imshow(img_in)\n",
        "cv2_imshow(img_out)"
      ]
    },
    {
      "cell_type": "markdown",
      "source": [
        "No arquivo abaixo as variáveis **a** e **b** alterarão as cores da imagem original, como **b** está fazendo uma soma todas as cores terão sua escala aumentada pelo valor em b, já **a** multiplicará o valor das imagens, o que pode dar em vários resultados mas para isso funcionar é necessário a parte **np.array(img_out, dtype = np.uint8)** para que caso o número faça com que a escala seja um número maior ou menor do que o permitido ele seja transformado novamente a escala uint8 dando um loop, ex: 255 + 1 = 0."
      ],
      "metadata": {
        "id": "QzDwiXzVfrdG"
      }
    },
    {
      "cell_type": "code",
      "execution_count": null,
      "metadata": {
        "id": "HMELaw10Nx8B"
      },
      "outputs": [],
      "source": [
        "#contraste e brilho\n",
        "img_in = cv2.imread('t1.jpg',0)\n",
        "#altere os valores tanto de a quanto de b\n",
        "\n",
        "a = -1 \n",
        "b = 1\n",
        "\n",
        "img_out = a*img_in + b\n",
        "\n",
        "img_out = np.array(img_out, dtype = np.uint8)\n",
        "\n",
        "cv2_imshow(img_in)\n",
        "cv2_imshow(img_out)"
      ]
    },
    {
      "cell_type": "markdown",
      "metadata": {
        "id": "W8UZXLnRNx8E"
      },
      "source": [
        "## Filtro Espacial"
      ]
    },
    {
      "cell_type": "markdown",
      "source": [
        "**kernel** será uma matriz de 1 dividido por 25 usada na função **cv2.filter2D()**, ela usará os valores de **kernel** para fazer uma multiplicação e soma entre ele e as cores de uma região da imagem de mesmo tamanho, para criar novos resultados para as cores, nesse caso 1/25 tentará suavizar a imagem para não haver grande constraste de cores."
      ],
      "metadata": {
        "id": "IcUhzzMkjSn4"
      }
    },
    {
      "cell_type": "code",
      "execution_count": null,
      "metadata": {
        "id": "hWxjlsd9Nx8F"
      },
      "outputs": [],
      "source": [
        "#suavização\n",
        "#você pode ler sobre o conceito aqui: https://docs.opencv.org/4.x/d4/d13/tutorial_py_filtering.html\n",
        "img_in = cv2.imread('t1.jpg',1)\n",
        "\n",
        "kernel = np.ones((5,5),np.float32)/25\n",
        "\n",
        "img_out_1 = cv2.filter2D(img_in,-1,kernel)\n",
        "\n",
        "\n",
        "cv2_imshow(img_in)\n",
        "cv2_imshow(img_out_1)\n",
        "\n"
      ]
    }
  ],
  "metadata": {
    "kernelspec": {
      "display_name": "Python 3",
      "language": "python",
      "name": "python3"
    },
    "language_info": {
      "codemirror_mode": {
        "name": "ipython",
        "version": 3
      },
      "file_extension": ".py",
      "mimetype": "text/x-python",
      "name": "python",
      "nbconvert_exporter": "python",
      "pygments_lexer": "ipython3",
      "version": "3.8.5"
    },
    "colab": {
      "provenance": [],
      "include_colab_link": true
    }
  },
  "nbformat": 4,
  "nbformat_minor": 0
}
